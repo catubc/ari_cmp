{
 "cells": [
  {
   "cell_type": "code",
   "execution_count": 2,
   "metadata": {},
   "outputs": [
    {
     "data": {
      "application/javascript": [
       "IPython.notebook.set_autosave_interval(180000)"
      ]
     },
     "metadata": {},
     "output_type": "display_data"
    },
    {
     "name": "stdout",
     "output_type": "stream",
     "text": [
      "Autosaving every 180 seconds\n"
     ]
    },
    {
     "data": {
      "text/html": [
       "<style>.container { width:100% !important; }</style>"
      ],
      "text/plain": [
       "<IPython.core.display.HTML object>"
      ]
     },
     "metadata": {},
     "output_type": "display_data"
    }
   ],
   "source": [
    "import matplotlib\n",
    "#matplotlib.use('Agg')\n",
    "%matplotlib tk\n",
    "%autosave 180\n",
    "import matplotlib.pyplot as plt\n",
    "from IPython.core.display import display, HTML\n",
    "display(HTML(\"<style>.container { width:100% !important; }</style>\"))\n",
    "\n",
    "import matplotlib.cm as cm\n",
    "from matplotlib import gridspec\n",
    "\n",
    "import numpy as np\n",
    "import pandas as pd\n",
    "import os\n",
    "import shutil\n",
    "\n",
    "#import glob2\n",
    "\n",
    "#from numba import jit\n",
    "\n",
    "colors = [\n",
    "'black','blue','red','green',\n",
    "'cyan',  \n",
    "'orange','firebrick','lawngreen','dodgerblue','crimson','orchid','slateblue',\n",
    "'darkgreen','darkorange','indianred','darkviolet','deepskyblue','greenyellow',\n",
    "'peru','cadetblue','forestgreen','slategrey','lightsteelblue','rebeccapurple',\n",
    "'darkmagenta','yellow','hotpink']"
   ]
  },
  {
   "cell_type": "code",
   "execution_count": null,
   "metadata": {},
   "outputs": [],
   "source": [
    "\n",
    "\n",
    "# def align_get_shifts_with_ref(wf, ref=None, upsample_factor=5, nshifts=7):\n",
    "\n",
    "#     ''' Align all waveforms on a single channel\n",
    "    \n",
    "#         wf = selected waveform matrix (# spikes, # samples)\n",
    "#         max_channel: is the last channel provided in wf \n",
    "        \n",
    "#         Returns: superresolution shifts required to align all waveforms\n",
    "#                  - used downstream for linear interpolation alignment\n",
    "#     '''\n",
    "#     # Cat: TODO: Peter's fix to clip/lengthen loaded waveforms to match reference templates    \n",
    "#     n_data, n_time = wf.shape\n",
    "\n",
    "#     if ref is None:\n",
    "#         ref = np.mean(wf, axis=0)\n",
    "      \n",
    "#     # convert nshifts from timesamples to  #of times in upsample_factor\n",
    "#     nshifts = (nshifts*upsample_factor)\n",
    "#     if nshifts%2==0:\n",
    "#         nshifts+=1\n",
    "\n",
    "#     # or loop over every channel and parallelize each channel:\n",
    "#     #wf_up = []\n",
    "#     wf_up = upsample_resample(wf, upsample_factor)\n",
    "#     wlen = wf_up.shape[1]\n",
    "#     wf_start = nshifts//2\n",
    "#     wf_end = -nshifts//2\n",
    "    \n",
    "#     wf_trunc = wf_up[:,wf_start:wf_end]\n",
    "#     wlen_trunc = wf_trunc.shape[1]\n",
    "    \n",
    "#     # align to last chanenl which is largest amplitude channel appended\n",
    "#     ref_upsampled = upsample_resample(ref[np.newaxis], upsample_factor)[0]\n",
    "#     ref_shifted = np.zeros([wf_trunc.shape[1], nshifts])\n",
    "    \n",
    "#     for i,s in enumerate(range(-(nshifts//2), (nshifts//2)+1)):\n",
    "#         ref_shifted[:,i] = ref_upsampled[s + wf_start: s + wf_end]\n",
    "\n",
    "#     bs_indices = np.matmul(wf_trunc[:,np.newaxis], ref_shifted).squeeze(1).argmax(1)\n",
    "#     best_shifts = (np.arange(-int((nshifts-1)/2), int((nshifts-1)/2+1)))[bs_indices]\n",
    "\n",
    "#     return best_shifts/np.float32(upsample_factor)"
   ]
  },
  {
   "cell_type": "code",
   "execution_count": 14,
   "metadata": {},
   "outputs": [
    {
     "name": "stdout",
     "output_type": "stream",
     "text": [
      "(2413, 101, 512)\n",
      "(10, 101, 512)\n"
     ]
    }
   ],
   "source": [
    "# \n",
    "temps = np.load('/media/cat/4TBSSD/data/retina/2009/templates_0sec.npy')\n",
    "print (temps.shape)\n",
    "\n",
    "temps1 = temps[10:20]\n",
    "print (temps1.shape)\n",
    "\n",
    "max_chans = temps1.ptp(1).argmax(1)"
   ]
  },
  {
   "cell_type": "code",
   "execution_count": 33,
   "metadata": {},
   "outputs": [
    {
     "name": "stdout",
     "output_type": "stream",
     "text": [
      "(10, 101)\n",
      "(10, 501)\n"
     ]
    },
    {
     "ename": "ValueError",
     "evalue": "x and y must have same first dimension, but have shapes (101,) and (100,)",
     "output_type": "error",
     "traceback": [
      "\u001b[0;31m---------------------------------------------------------------------------\u001b[0m",
      "\u001b[0;31mValueError\u001b[0m                                Traceback (most recent call last)",
      "\u001b[0;32m<ipython-input-33-a8fb72e18822>\u001b[0m in \u001b[0;36m<module>\u001b[0;34m\u001b[0m\n\u001b[1;32m     32\u001b[0m \u001b[0mshifts\u001b[0m \u001b[0;34m=\u001b[0m \u001b[0mnp\u001b[0m\u001b[0;34m.\u001b[0m\u001b[0marange\u001b[0m\u001b[0;34m(\u001b[0m\u001b[0;36m0\u001b[0m\u001b[0;34m,\u001b[0m\u001b[0;36m5\u001b[0m\u001b[0;34m,\u001b[0m\u001b[0;36m1\u001b[0m\u001b[0;34m)\u001b[0m\u001b[0;34m\u001b[0m\u001b[0;34m\u001b[0m\u001b[0m\n\u001b[1;32m     33\u001b[0m \u001b[0;32mfor\u001b[0m \u001b[0mshift\u001b[0m \u001b[0;32min\u001b[0m \u001b[0mshifts\u001b[0m\u001b[0;34m:\u001b[0m\u001b[0;34m\u001b[0m\u001b[0;34m\u001b[0m\u001b[0m\n\u001b[0;32m---> 34\u001b[0;31m     \u001b[0mplt\u001b[0m\u001b[0;34m.\u001b[0m\u001b[0mplot\u001b[0m\u001b[0;34m(\u001b[0m\u001b[0mt\u001b[0m\u001b[0;34m,\u001b[0m \u001b[0mwf_upsampled\u001b[0m\u001b[0;34m[\u001b[0m\u001b[0;36m0\u001b[0m\u001b[0;34m,\u001b[0m\u001b[0mshift\u001b[0m\u001b[0;34m:\u001b[0m\u001b[0;34m:\u001b[0m\u001b[0mupsample_factor\u001b[0m\u001b[0;34m]\u001b[0m\u001b[0;34m)\u001b[0m\u001b[0;34m\u001b[0m\u001b[0;34m\u001b[0m\u001b[0m\n\u001b[0m\u001b[1;32m     35\u001b[0m \u001b[0;34m\u001b[0m\u001b[0m\n\u001b[1;32m     36\u001b[0m \u001b[0;34m\u001b[0m\u001b[0m\n",
      "\u001b[0;32m~/anaconda3/envs/yass2/lib/python3.7/site-packages/matplotlib/pyplot.py\u001b[0m in \u001b[0;36mplot\u001b[0;34m(scalex, scaley, data, *args, **kwargs)\u001b[0m\n\u001b[1;32m   2761\u001b[0m     return gca().plot(\n\u001b[1;32m   2762\u001b[0m         *args, scalex=scalex, scaley=scaley, **({\"data\": data} if data\n\u001b[0;32m-> 2763\u001b[0;31m         is not None else {}), **kwargs)\n\u001b[0m\u001b[1;32m   2764\u001b[0m \u001b[0;34m\u001b[0m\u001b[0m\n\u001b[1;32m   2765\u001b[0m \u001b[0;34m\u001b[0m\u001b[0m\n",
      "\u001b[0;32m~/anaconda3/envs/yass2/lib/python3.7/site-packages/matplotlib/axes/_axes.py\u001b[0m in \u001b[0;36mplot\u001b[0;34m(self, scalex, scaley, data, *args, **kwargs)\u001b[0m\n\u001b[1;32m   1644\u001b[0m         \"\"\"\n\u001b[1;32m   1645\u001b[0m         \u001b[0mkwargs\u001b[0m \u001b[0;34m=\u001b[0m \u001b[0mcbook\u001b[0m\u001b[0;34m.\u001b[0m\u001b[0mnormalize_kwargs\u001b[0m\u001b[0;34m(\u001b[0m\u001b[0mkwargs\u001b[0m\u001b[0;34m,\u001b[0m \u001b[0mmlines\u001b[0m\u001b[0;34m.\u001b[0m\u001b[0mLine2D\u001b[0m\u001b[0;34m)\u001b[0m\u001b[0;34m\u001b[0m\u001b[0;34m\u001b[0m\u001b[0m\n\u001b[0;32m-> 1646\u001b[0;31m         \u001b[0mlines\u001b[0m \u001b[0;34m=\u001b[0m \u001b[0;34m[\u001b[0m\u001b[0;34m*\u001b[0m\u001b[0mself\u001b[0m\u001b[0;34m.\u001b[0m\u001b[0m_get_lines\u001b[0m\u001b[0;34m(\u001b[0m\u001b[0;34m*\u001b[0m\u001b[0margs\u001b[0m\u001b[0;34m,\u001b[0m \u001b[0mdata\u001b[0m\u001b[0;34m=\u001b[0m\u001b[0mdata\u001b[0m\u001b[0;34m,\u001b[0m \u001b[0;34m**\u001b[0m\u001b[0mkwargs\u001b[0m\u001b[0;34m)\u001b[0m\u001b[0;34m]\u001b[0m\u001b[0;34m\u001b[0m\u001b[0;34m\u001b[0m\u001b[0m\n\u001b[0m\u001b[1;32m   1647\u001b[0m         \u001b[0;32mfor\u001b[0m \u001b[0mline\u001b[0m \u001b[0;32min\u001b[0m \u001b[0mlines\u001b[0m\u001b[0;34m:\u001b[0m\u001b[0;34m\u001b[0m\u001b[0;34m\u001b[0m\u001b[0m\n\u001b[1;32m   1648\u001b[0m             \u001b[0mself\u001b[0m\u001b[0;34m.\u001b[0m\u001b[0madd_line\u001b[0m\u001b[0;34m(\u001b[0m\u001b[0mline\u001b[0m\u001b[0;34m)\u001b[0m\u001b[0;34m\u001b[0m\u001b[0;34m\u001b[0m\u001b[0m\n",
      "\u001b[0;32m~/anaconda3/envs/yass2/lib/python3.7/site-packages/matplotlib/axes/_base.py\u001b[0m in \u001b[0;36m__call__\u001b[0;34m(self, *args, **kwargs)\u001b[0m\n\u001b[1;32m    214\u001b[0m                 \u001b[0mthis\u001b[0m \u001b[0;34m+=\u001b[0m \u001b[0margs\u001b[0m\u001b[0;34m[\u001b[0m\u001b[0;36m0\u001b[0m\u001b[0;34m]\u001b[0m\u001b[0;34m,\u001b[0m\u001b[0;34m\u001b[0m\u001b[0;34m\u001b[0m\u001b[0m\n\u001b[1;32m    215\u001b[0m                 \u001b[0margs\u001b[0m \u001b[0;34m=\u001b[0m \u001b[0margs\u001b[0m\u001b[0;34m[\u001b[0m\u001b[0;36m1\u001b[0m\u001b[0;34m:\u001b[0m\u001b[0;34m]\u001b[0m\u001b[0;34m\u001b[0m\u001b[0;34m\u001b[0m\u001b[0m\n\u001b[0;32m--> 216\u001b[0;31m             \u001b[0;32myield\u001b[0m \u001b[0;32mfrom\u001b[0m \u001b[0mself\u001b[0m\u001b[0;34m.\u001b[0m\u001b[0m_plot_args\u001b[0m\u001b[0;34m(\u001b[0m\u001b[0mthis\u001b[0m\u001b[0;34m,\u001b[0m \u001b[0mkwargs\u001b[0m\u001b[0;34m)\u001b[0m\u001b[0;34m\u001b[0m\u001b[0;34m\u001b[0m\u001b[0m\n\u001b[0m\u001b[1;32m    217\u001b[0m \u001b[0;34m\u001b[0m\u001b[0m\n\u001b[1;32m    218\u001b[0m     \u001b[0;32mdef\u001b[0m \u001b[0mget_next_color\u001b[0m\u001b[0;34m(\u001b[0m\u001b[0mself\u001b[0m\u001b[0;34m)\u001b[0m\u001b[0;34m:\u001b[0m\u001b[0;34m\u001b[0m\u001b[0;34m\u001b[0m\u001b[0m\n",
      "\u001b[0;32m~/anaconda3/envs/yass2/lib/python3.7/site-packages/matplotlib/axes/_base.py\u001b[0m in \u001b[0;36m_plot_args\u001b[0;34m(self, tup, kwargs)\u001b[0m\n\u001b[1;32m    340\u001b[0m \u001b[0;34m\u001b[0m\u001b[0m\n\u001b[1;32m    341\u001b[0m         \u001b[0;32mif\u001b[0m \u001b[0mx\u001b[0m\u001b[0;34m.\u001b[0m\u001b[0mshape\u001b[0m\u001b[0;34m[\u001b[0m\u001b[0;36m0\u001b[0m\u001b[0;34m]\u001b[0m \u001b[0;34m!=\u001b[0m \u001b[0my\u001b[0m\u001b[0;34m.\u001b[0m\u001b[0mshape\u001b[0m\u001b[0;34m[\u001b[0m\u001b[0;36m0\u001b[0m\u001b[0;34m]\u001b[0m\u001b[0;34m:\u001b[0m\u001b[0;34m\u001b[0m\u001b[0;34m\u001b[0m\u001b[0m\n\u001b[0;32m--> 342\u001b[0;31m             raise ValueError(f\"x and y must have same first dimension, but \"\n\u001b[0m\u001b[1;32m    343\u001b[0m                              f\"have shapes {x.shape} and {y.shape}\")\n\u001b[1;32m    344\u001b[0m         \u001b[0;32mif\u001b[0m \u001b[0mx\u001b[0m\u001b[0;34m.\u001b[0m\u001b[0mndim\u001b[0m \u001b[0;34m>\u001b[0m \u001b[0;36m2\u001b[0m \u001b[0;32mor\u001b[0m \u001b[0my\u001b[0m\u001b[0;34m.\u001b[0m\u001b[0mndim\u001b[0m \u001b[0;34m>\u001b[0m \u001b[0;36m2\u001b[0m\u001b[0;34m:\u001b[0m\u001b[0;34m\u001b[0m\u001b[0;34m\u001b[0m\u001b[0m\n",
      "\u001b[0;31mValueError\u001b[0m: x and y must have same first dimension, but have shapes (101,) and (100,)"
     ]
    }
   ],
   "source": [
    "# upsample shift\n",
    "from scipy import signal\n",
    "\n",
    "def upsample_resample(wf, upsample_factor):\n",
    "    wf = wf.T\n",
    "    waveform_len, n_spikes = wf.shape\n",
    "    traces = np.zeros((n_spikes, (waveform_len-1)*upsample_factor+1),'float32')\n",
    "    for j in range(wf.shape[1]):\n",
    "        traces[j] = signal.resample(wf[:,j],(waveform_len-1)*upsample_factor+1)\n",
    "    return traces\n",
    "\n",
    "temp_local = []\n",
    "for k in range(temps1.shape[0]):\n",
    "    temp_local.append(temps1[k,:,max_chans[k]])\n",
    "    \n",
    "temp_local = np.array(temp_local)\n",
    "\n",
    "print (temp_local.shape)\n",
    "upsample_factor = 5\n",
    "wf_upsampled = upsample_resample(temp_local, upsample_factor)\n",
    "\n",
    "print (wf_upsampled.shape)\n",
    "\n",
    "ax = plt.subplot(1,2,1)\n",
    "t = np.arange(temp_local.shape[1])\n",
    "plt.plot(t, temp_local.T,c='black')\n",
    "\n",
    "tt = np.arange(wf_upsampled.shape[1])/upsample_factor+0.5\n",
    "plt.plot(tt, wf_upsampled.T)\n",
    "\n",
    "ax = plt.subplot(1,2,2)\n",
    "shifts = np.arange(0,5,1)\n",
    "for shift in shifts:\n",
    "    plt.plot(t, wf_upsampled[0,shift::upsample_factor])\n",
    "\n",
    "\n",
    "plt.show()"
   ]
  },
  {
   "cell_type": "code",
   "execution_count": 28,
   "metadata": {},
   "outputs": [
    {
     "name": "stdout",
     "output_type": "stream",
     "text": [
      "(498, 3)\n"
     ]
    }
   ],
   "source": [
    "nshifts = 3\n",
    "ref = np.mean(temp_local, axis=0)\n",
    "        \n",
    "wlen = wf_upsampled.shape[1]\n",
    "wf_start = nshifts//2\n",
    "wf_end = -nshifts//2\n",
    "\n",
    "wf_trunc = wf_upsampled[:,wf_start:wf_end]\n",
    "wlen_trunc = wf_trunc.shape[1]\n",
    "\n",
    "# align to last chanenl which is largest amplitude channel appended\n",
    "ref_upsampled = upsample_resample(ref[np.newaxis], upsample_factor)[0]\n",
    "ref_shifted = np.zeros([wf_trunc.shape[1], nshifts])\n",
    "\n",
    "for i,s in enumerate(range(-(nshifts//2), (nshifts//2)+1)):\n",
    "    ref_shifted[:,i] = ref_upsampled[s + wf_start: s + wf_end]\n",
    "    \n",
    "print (ref_shifted.shape)"
   ]
  },
  {
   "cell_type": "code",
   "execution_count": 29,
   "metadata": {},
   "outputs": [],
   "source": [
    "plt.plot(ref_shifted)\n",
    "plt.show()"
   ]
  },
  {
   "cell_type": "code",
   "execution_count": null,
   "metadata": {},
   "outputs": [],
   "source": [
    "def shift_chans(wf, best_shifts):\n",
    "    # use template feat_channel shifts to interpolate shift of all spikes on all other chans\n",
    "    # Cat: TODO read this from CNOFIG\n",
    "    wfs_final= np.zeros(wf.shape, 'float32')\n",
    "    for k, shift_ in enumerate(best_shifts):\n",
    "        if int(shift_)==shift_:\n",
    "            ceil = int(shift_)\n",
    "            temp = np.roll(wf[k],ceil,axis=0)\n",
    "        else:\n",
    "            ceil = int(math.ceil(shift_))\n",
    "            floor = int(math.floor(shift_))\n",
    "            temp = np.roll(wf[k],ceil,axis=0)*(shift_-floor)+np.roll(wf[k],floor, axis=0)*(ceil-shift_)\n",
    "        wfs_final[k] = temp\n",
    "    \n",
    "    return wfs_final"
   ]
  }
 ],
 "metadata": {
  "kernelspec": {
   "display_name": "Python 3",
   "language": "python",
   "name": "python3"
  },
  "language_info": {
   "codemirror_mode": {
    "name": "ipython",
    "version": 3
   },
   "file_extension": ".py",
   "mimetype": "text/x-python",
   "name": "python",
   "nbconvert_exporter": "python",
   "pygments_lexer": "ipython3",
   "version": "3.7.7"
  }
 },
 "nbformat": 4,
 "nbformat_minor": 4
}
