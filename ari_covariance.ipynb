{
 "cells": [
  {
   "cell_type": "code",
   "execution_count": 4,
   "metadata": {},
   "outputs": [
    {
     "data": {
      "application/javascript": [
       "IPython.notebook.set_autosave_interval(180000)"
      ]
     },
     "metadata": {},
     "output_type": "display_data"
    },
    {
     "name": "stdout",
     "output_type": "stream",
     "text": [
      "Autosaving every 180 seconds\n"
     ]
    },
    {
     "data": {
      "text/html": [
       "<style>.container { width:100% !important; }</style>"
      ],
      "text/plain": [
       "<IPython.core.display.HTML object>"
      ]
     },
     "metadata": {},
     "output_type": "display_data"
    }
   ],
   "source": [
    "import matplotlib\n",
    "#matplotlib.use('Agg')\n",
    "%matplotlib tk\n",
    "%autosave 180\n",
    "import matplotlib.pyplot as plt\n",
    "from IPython.core.display import display, HTML\n",
    "display(HTML(\"<style>.container { width:100% !important; }</style>\"))\n",
    "\n",
    "import matplotlib.cm as cm\n",
    "from matplotlib import gridspec\n",
    "\n",
    "import numpy as np\n",
    "import pandas as pd\n",
    "import os\n",
    "import shutil\n",
    "\n",
    "#import glob2\n",
    "\n",
    "#from numba import jit\n",
    "\n",
    "colors = [\n",
    "'black','blue','red','green',\n",
    "'cyan',  \n",
    "'orange','firebrick','lawngreen','dodgerblue','crimson','orchid','slateblue',\n",
    "'darkgreen','darkorange','indianred','darkviolet','deepskyblue','greenyellow',\n",
    "'peru','cadetblue','forestgreen','slategrey','lightsteelblue','rebeccapurple',\n",
    "'darkmagenta','yellow','hotpink']"
   ]
  },
  {
   "cell_type": "code",
   "execution_count": 30,
   "metadata": {},
   "outputs": [],
   "source": [
    "# if you don't have CONFIG file in full\n",
    "from yass.noise import get_noise_covariance\n",
    "from yass.empty import empty\n",
    "from yass.reader import READER\n",
    "\n",
    "class MakeCONFIG(object):\n",
    "    \n",
    "    def __init__(self,geom,spike_size, sampling_rate, n_channels): \n",
    "        self.spike_size = spike_size \n",
    "        self.geom = geom \n",
    "        self.sampling_rate = sampling_rate \n",
    "\n",
    "        self.recordings = empty() \n",
    "        self.recordings.n_channels = n_channels \n",
    "        self.recordings.sampling_rate = sampling_rate \n",
    "            \n",
    "geom = np.loadtxt('/media/cat/4TBSSD/data/synthetic/p1_g0_t0.imec0.ap_geom.txt')\n",
    "\n",
    "spike_size = 101\n",
    "sampling_rate = 30000\n",
    "n_channels = 385\n",
    "\n",
    "# read CONFIG file\n",
    "CONFIG = MakeCONFIG(geom, spike_size, sampling_rate,n_channels)\n",
    "\n",
    "# setup read data structure\n",
    "fname_bin = '/media/cat/4TBSSD/data/synthetic/run1_april14/tmp/preprocess/standardized.bin'\n",
    "reader = READER(fname_bin, 'float32', CONFIG)\n",
    "\n",
    "# compute noise covariance\n",
    "spatial_cov, temporal_cov = get_noise_covariance(reader, CONFIG)\n",
    "\n",
    "# visualize\n",
    "fig=plt.figure()\n",
    "ax=plt.subplot(1,1,1)\n",
    "plt.imshow(temporal_cov)\n",
    "plt.show()"
   ]
  },
  {
   "cell_type": "code",
   "execution_count": 22,
   "metadata": {},
   "outputs": [
    {
     "name": "stdout",
     "output_type": "stream",
     "text": [
      "(101, 101)\n"
     ]
    }
   ],
   "source": [
    "# if you know/have CONFIG FILE ALREADY\n",
    "\n",
    "from yass.noise import get_noise_covariance\n",
    "from yass.reader import READER\n",
    "\n",
    "fname_config = ''  # location of .yaml file\n",
    "save_dir = ''      # where you want data to be saved\n",
    "recording_path = ''  # name of bin file\n",
    "recording_dtype = 'float32' # or 'int16'\n",
    "\n",
    "CONFIG = set_config(fname_config, save_dir)\n",
    "reader = READER(recording_path, recording_dtype, CONFIG)\n",
    "spat_cov, temp_cov = get_noise_covariance(reader, CONFIG"
   ]
  },
  {
   "cell_type": "code",
   "execution_count": 24,
   "metadata": {},
   "outputs": [],
   "source": []
  },
  {
   "cell_type": "code",
   "execution_count": 9,
   "metadata": {},
   "outputs": [
    {
     "name": "stdout",
     "output_type": "stream",
     "text": [
      "(575, 101, 384)\n",
      "(384, 2)\n"
     ]
    }
   ],
   "source": [
    "templates = np.load('/media/cat/1TB/Dropbox/code/neuropixels/allen_inst_2ndrec/templates_reloaded.npy')\n",
    "print (templates.shape)\n",
    "\n",
    "geom = np.loadtxt('/media/cat/1TB/data/synthetic/p1_g0_t0.imec0.ap_geom.txt')\n",
    "geom = geom[:templates.shape[2]]\n",
    "print (geom.shape)"
   ]
  },
  {
   "cell_type": "code",
   "execution_count": null,
   "metadata": {},
   "outputs": [],
   "source": []
  }
 ],
 "metadata": {
  "kernelspec": {
   "display_name": "Python 3",
   "language": "python",
   "name": "python3"
  },
  "language_info": {
   "codemirror_mode": {
    "name": "ipython",
    "version": 3
   },
   "file_extension": ".py",
   "mimetype": "text/x-python",
   "name": "python",
   "nbconvert_exporter": "python",
   "pygments_lexer": "ipython3",
   "version": "3.7.7"
  }
 },
 "nbformat": 4,
 "nbformat_minor": 4
}
