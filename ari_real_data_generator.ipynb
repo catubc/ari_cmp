{
 "cells": [
  {
   "cell_type": "code",
   "execution_count": 1,
   "metadata": {},
   "outputs": [
    {
     "data": {
      "application/javascript": [
       "IPython.notebook.set_autosave_interval(180000)"
      ]
     },
     "metadata": {},
     "output_type": "display_data"
    },
    {
     "name": "stdout",
     "output_type": "stream",
     "text": [
      "Autosaving every 180 seconds\n"
     ]
    },
    {
     "data": {
      "text/html": [
       "<style>.container { width:100% !important; }</style>"
      ],
      "text/plain": [
       "<IPython.core.display.HTML object>"
      ]
     },
     "metadata": {},
     "output_type": "display_data"
    }
   ],
   "source": [
    "import matplotlib\n",
    "#matplotlib.use('Agg')\n",
    "%matplotlib tk\n",
    "%autosave 180\n",
    "\n",
    "import numpy as np\n",
    "import datetime as dt\n",
    "\n",
    "import matplotlib.pyplot as plt\n",
    "from IPython.core.display import display, HTML\n",
    "display(HTML(\"<style>.container { width:100% !important; }</style>\"))\n",
    "#from sklearn.discriminant_analysis import LinearDiscriminantAnalysis\n",
    "#from statsmodels import robust\n",
    "import matplotlib.gridspec as gridspec\n",
    "import matplotlib.patches as mpatches\n",
    "import os\n",
    "import matplotlib.cm as cm\n",
    "\n",
    "# run pca and visualize\n",
    "\n",
    "import scipy\n",
    "\n",
    "colors = [\n",
    "'black','blue','red','green','cyan','magenta','brown','pink',\n",
    "'orange','firebrick','lawngreen','dodgerblue','crimson','orchid','slateblue',\n",
    "'darkgreen','darkorange','indianred','darkviolet','deepskyblue','greenyellow',\n",
    "'peru','cadetblue','forestgreen','slategrey','lightsteelblue','rebeccapurple',\n",
    "'darkmagenta','yellow','hotpink']\n",
    "\n",
    "sorted_colors=colors\n",
    "\n",
    "#import deconv\n",
    "\n",
    "# visualize recomputed templates over time;\n",
    "def binary_reader_waveforms(filename, n_channels, n_times, spikes, channels=None, data_type='float32'):\n",
    "    ''' Reader for loading raw binaries\n",
    "    \n",
    "        standardized_filename:  name of file contianing the raw binary\n",
    "        n_channels:  number of channels in the raw binary recording \n",
    "        n_times:  length of waveform \n",
    "        spikes: 1D array containing spike times in sample rate of raw data\n",
    "        channels: load specific channels only\n",
    "        data_type: float32 for standardized data\n",
    "    \n",
    "    '''\n",
    "\n",
    "    # ***** LOAD RAW RECORDING *****\n",
    "    if channels is None:\n",
    "        wfs = np.zeros((spikes.shape[0], n_times, n_channels), data_type)\n",
    "    else:\n",
    "        wfs = np.zeros((spikes.shape[0], n_times, channels.shape[0]), data_type)\n",
    "    if data_type =='float32':\n",
    "        data_len = 4\n",
    "    else:\n",
    "        data_len = 2\n",
    "\n",
    "    with open(filename, \"rb\") as fin:\n",
    "        for ctr,s in enumerate(spikes):\n",
    "            #print (ctr,s)\n",
    "            # index into binary file: time steps * 4  4byte floats * n_channels\n",
    "            fin.seek(s * data_len * n_channels, os.SEEK_SET)\n",
    "            wfs[ctr] = np.fromfile(\n",
    "                fin,\n",
    "                dtype=data_type,\n",
    "                count=(n_times * n_channels)).reshape(n_times, n_channels)[:,channels]\n",
    "    fin.close()\n",
    "    return wfs"
   ]
  },
  {
   "cell_type": "code",
   "execution_count": 2,
   "metadata": {},
   "outputs": [],
   "source": [
    "data = np.load('/media/cat/12TB/insync_cm3746/paninski_lab/data/neuropixels/ari/julien_real_neighbour_chans_neuropixels2/chan_5_data.npy')\n",
    "templates = np.load('/media/cat/12TB/insync_cm3746/paninski_lab/data/neuropixels/ari/julien_real_neighbour_chans_neuropixels2/chan_5_templates.npy',allow_pickle=True)\n",
    "times = np.load('/media/cat/12TB/insync_cm3746/paninski_lab/data/neuropixels/ari/julien_real_neighbour_chans_neuropixels2/chan_5_times.npy',allow_pickle=True)\n",
    "# plt.plot(data[:10000])\n",
    "# for p in range(templates.shape[0]):\n",
    "#     idx = np.where(times[p]<10000)[0]\n",
    "#     print (idx.shape)\n",
    "#     for k in range(idx.shape[0]):\n",
    "#         plt.plot(times[p][k]+np.arange(75)-9,templates[p],c=colors[p])\n",
    "# plt.show()"
   ]
  },
  {
   "cell_type": "code",
   "execution_count": 3,
   "metadata": {},
   "outputs": [
    {
     "name": "stdout",
     "output_type": "stream",
     "text": [
      "(2413, 101, 512)\n",
      "(3072000000,)\n",
      "(6000000, 512)\n",
      "[[        0      1430]\n",
      " [        0       490]\n",
      " [        0       565]\n",
      " ...\n",
      " [143999995       239]\n",
      " [143999996       812]\n",
      " [143999997        17]]\n"
     ]
    }
   ],
   "source": [
    "# YASS DATASETS\n",
    "# load raw data and spike train\n",
    "root_dir = '/media/cat/12TB/insync_cm3746/paninski_lab/data/retina/512chan/ari_Julien_CMP/2009_real_retina_data/data/'\n",
    "\n",
    "temps = np.load('/media/cat/2TB/liam/512channels/2009-04-13-5_120mins/tmp/output/templates/templates_0sec.npy')\n",
    "print (temps.shape)\n",
    "\n",
    "geom = np.loadtxt('/media/cat/2TB/liam/512channels/2009-04-13-5_120mins/geom.txt')\n",
    "\n",
    "\n",
    "data = np.fromfile('/media/cat/2TB/liam/512channels/2009-04-13-5_120mins/tmp/preprocess/standardized.bin','float32')\n",
    "print (data.shape)\n",
    "\n",
    "n_chan = 512\n",
    "data2D = data.reshape(-1,n_chan)\n",
    "print (data2D.shape)\n",
    "\n",
    "spike_train = np.load('/media/cat/2TB/liam/512channels/2009-04-13-5_120mins/tmp/output/spike_train.npy')\n",
    "print (spike_train)"
   ]
  },
  {
   "cell_type": "code",
   "execution_count": 4,
   "metadata": {
    "scrolled": true
   },
   "outputs": [
    {
     "name": "stdout",
     "output_type": "stream",
     "text": [
      " templates saved:  (29, 75)\n",
      " templates saved:  (22, 75)\n",
      " templates saved:  (21, 75)\n",
      " templates saved:  (21, 75)\n",
      " templates saved:  (25, 75)\n",
      " templates saved:  (19, 75)\n",
      " templates saved:  (49, 75)\n"
     ]
    },
    {
     "name": "stderr",
     "output_type": "stream",
     "text": [
      "ERROR:root:Internal Python error in the inspect module.\n",
      "Below is the traceback from this internal error.\n",
      "\n"
     ]
    },
    {
     "name": "stdout",
     "output_type": "stream",
     "text": [
      "Traceback (most recent call last):\n",
      "  File \"/home/cat/anaconda3/lib/python3.6/site-packages/IPython/core/interactiveshell.py\", line 2963, in run_code\n",
      "    exec(code_obj, self.user_global_ns, self.user_ns)\n",
      "  File \"<ipython-input-4-381a3a9effc8>\", line 55, in <module>\n",
      "    idx4 = np.where(spike_train[:,1]==id_)[0]\n",
      "KeyboardInterrupt\n",
      "\n",
      "During handling of the above exception, another exception occurred:\n",
      "\n",
      "Traceback (most recent call last):\n",
      "  File \"/home/cat/anaconda3/lib/python3.6/site-packages/IPython/core/interactiveshell.py\", line 1863, in showtraceback\n",
      "    stb = value._render_traceback_()\n",
      "AttributeError: 'KeyboardInterrupt' object has no attribute '_render_traceback_'\n",
      "\n",
      "During handling of the above exception, another exception occurred:\n",
      "\n",
      "Traceback (most recent call last):\n",
      "  File \"/home/cat/anaconda3/lib/python3.6/site-packages/IPython/core/ultratb.py\", line 1095, in get_records\n",
      "    return _fixed_getinnerframes(etb, number_of_lines_of_context, tb_offset)\n",
      "  File \"/home/cat/anaconda3/lib/python3.6/site-packages/IPython/core/ultratb.py\", line 311, in wrapped\n",
      "    return f(*args, **kwargs)\n",
      "  File \"/home/cat/anaconda3/lib/python3.6/site-packages/IPython/core/ultratb.py\", line 345, in _fixed_getinnerframes\n",
      "    records = fix_frame_records_filenames(inspect.getinnerframes(etb, context))\n",
      "  File \"/home/cat/anaconda3/lib/python3.6/inspect.py\", line 1488, in getinnerframes\n",
      "    frameinfo = (tb.tb_frame,) + getframeinfo(tb, context)\n",
      "  File \"/home/cat/anaconda3/lib/python3.6/inspect.py\", line 1446, in getframeinfo\n",
      "    filename = getsourcefile(frame) or getfile(frame)\n",
      "  File \"/home/cat/anaconda3/lib/python3.6/inspect.py\", line 696, in getsourcefile\n",
      "    if getattr(getmodule(object, filename), '__loader__', None) is not None:\n",
      "  File \"/home/cat/anaconda3/lib/python3.6/inspect.py\", line 742, in getmodule\n",
      "    os.path.realpath(f)] = module.__name__\n",
      "  File \"/home/cat/anaconda3/lib/python3.6/posixpath.py\", line 388, in realpath\n",
      "    path, ok = _joinrealpath(filename[:0], filename, {})\n",
      "  File \"/home/cat/anaconda3/lib/python3.6/posixpath.py\", line 421, in _joinrealpath\n",
      "    newpath = join(path, name)\n",
      "  File \"/home/cat/anaconda3/lib/python3.6/posixpath.py\", line 87, in join\n",
      "    if b.startswith(sep):\n",
      "KeyboardInterrupt\n"
     ]
    },
    {
     "ename": "KeyboardInterrupt",
     "evalue": "",
     "output_type": "error",
     "traceback": [
      "\u001b[0;31m---------------------------------------------------------------------------\u001b[0m"
     ]
    }
   ],
   "source": [
    "# SAVE NEURONS ON MAX CHAN AND IMMEDIATE NEGIHBROU CHANS\n",
    "ptps = temps.ptp(1).max(1)\n",
    "max_chans = temps.ptp(1).argmax(1)\n",
    "\n",
    "root_dir = '/media/cat/12TB/insync_cm3746/paninski_lab/data/retina/ari_Julien_CMP/2009_real_retina_data_4SU_units/'\n",
    "\n",
    "ctr=0\n",
    "for chan in range(n_chan):\n",
    "    idx2 = np.where(max_chans==chan)[0]\n",
    "    ptps_local = ptps[idx2]\n",
    "\n",
    "    locs = geom[chan]\n",
    "    \n",
    "    thresh=70\n",
    "    \n",
    "    chans_neighbour = []\n",
    "    for k in range(n_chan):\n",
    "        dist = np.linalg.norm(locs-geom[k])\n",
    "        if dist < thresh:\n",
    "            chans_neighbour.append(k)\n",
    "\n",
    "            \n",
    "    #print (chans_neighbour)\n",
    "    #break\n",
    "    # all chans within neighbourhood\n",
    "    chans_neighbour = np.unique(chans_neighbour)\n",
    "       \n",
    "    #idx3 = np.where(ptps_local>8.0)[0]\n",
    "    \n",
    "    \n",
    "    if idx2.shape[0]>5:\n",
    "                \n",
    "        # save this channel and the data\n",
    "        np.save(root_dir+'/chan_'+str(ctr)+'_data.npy',\n",
    "                data2D[:,chan])\n",
    "        \n",
    "        # save templates\n",
    "        temps_out=[]\n",
    "        for ch in chans_neighbour:\n",
    "            idx = np.where(max_chans==ch)[0]\n",
    "            temps_out.extend(temps[idx,:,chan])  #Make sure you save max channel tempalte NOT \n",
    "            \n",
    "        temps_out = np.array(temps_out)[:,20:95]\n",
    "        print (\" templates saved: \", temps_out.shape)\n",
    "            \n",
    "        np.save(root_dir+'/chan_'+str(ctr)+'_templates.npy',\n",
    "                temps_out)\n",
    "        \n",
    "        # save spiketrains\n",
    "        times_out= []\n",
    "        for ch in chans_neighbour:\n",
    "            #idx = np.where\n",
    "            ids = np.where(max_chans==ch)[0]\n",
    "            for id_ in ids:\n",
    "                idx4 = np.where(spike_train[:,1]==id_)[0]\n",
    "                times = spike_train[idx4,0]\n",
    "                idx5 = np.where(times<(5*60*20000))[0]\n",
    "                times_out.append(times[idx5])\n",
    "        \n",
    "        np.save(root_dir+'/chan_'+str(ctr)+'_times.npy',\n",
    "                times_out)\n",
    "        #break    \n",
    "        ctr+=1"
   ]
  },
  {
   "cell_type": "code",
   "execution_count": null,
   "metadata": {},
   "outputs": [
    {
     "name": "stdout",
     "output_type": "stream",
     "text": [
      "(2413, 512)\n",
      "(60, 101)\n",
      " templates saved:  (60, 75)\n",
      "(59, 101)\n",
      " templates saved:  (59, 75)\n",
      "(40, 101)\n",
      " templates saved:  (40, 75)\n",
      "(60, 101)\n",
      " templates saved:  (60, 75)\n",
      "(36, 101)\n",
      " templates saved:  (36, 75)\n",
      "(78, 101)\n",
      " templates saved:  (78, 75)\n",
      "(98, 101)\n",
      " templates saved:  (98, 75)\n",
      "(76, 101)\n",
      " templates saved:  (76, 75)\n",
      "(58, 101)\n",
      " templates saved:  (58, 75)\n",
      "(48, 101)\n",
      " templates saved:  (48, 75)\n",
      "(87, 101)\n",
      " templates saved:  (87, 75)\n",
      "(89, 101)\n",
      " templates saved:  (89, 75)\n",
      "(50, 101)\n",
      " templates saved:  (50, 75)\n",
      "(76, 101)\n",
      " templates saved:  (76, 75)\n",
      "(41, 101)\n",
      " templates saved:  (41, 75)\n",
      "(57, 101)\n",
      " templates saved:  (57, 75)\n",
      "(83, 101)\n",
      " templates saved:  (83, 75)\n",
      "(54, 101)\n",
      " templates saved:  (54, 75)\n",
      "(94, 101)\n",
      " templates saved:  (94, 75)\n",
      "(90, 101)\n",
      " templates saved:  (90, 75)\n"
     ]
    }
   ],
   "source": [
    "# SAVEN ALL NEURONS GRATERA THAN 4SU\n",
    "ptps = temps.ptp(1).max(1)\n",
    "ptps_all_chan = temps.ptp(1)\n",
    "print (ptps_all_chan.shape)\n",
    "max_chans = temps.ptp(1).argmax(1)\n",
    "\n",
    "root_dir = '/media/cat/12TB/insync_cm3746/paninski_lab/data/retina/ari_Julien_CMP/2009_real_retina_data_4SU_units/'\n",
    "\n",
    "ctr=0\n",
    "for chan in range(n_chan):\n",
    "    idx2 = np.where(max_chans==chan)[0]\n",
    "    ptps_local = ptps[idx2]\n",
    "\n",
    "    locs = geom[chan]\n",
    "    \n",
    "#     thresh=70\n",
    "    \n",
    "#     chans_neighbour = []\n",
    "#     for k in range(n_chan):\n",
    "#         dist = np.linalg.norm(locs-geom[k])\n",
    "#         if dist < thresh:\n",
    "#             chans_neighbour.append(k)\n",
    "\n",
    "            \n",
    "    #print (chans_neighbour)\n",
    "    #break\n",
    "    # all chans within neighbourhood\n",
    "    #chans_neighbour = np.unique(chans_neighbour)\n",
    "       \n",
    "    #idx3 = np.where(ptps_local>8.0)[0]\n",
    "    \n",
    "    \n",
    "    if idx2.shape[0]>5:\n",
    "           \n",
    "            \n",
    "        # find al neurons with templates > SU on the selected channel:\n",
    "        ptp_thresh = 4.0\n",
    "        ids_ptp = np.where(ptps_all_chan[:,chan]>ptp_thresh)[0]\n",
    "        \n",
    "        \n",
    "        # save this channel and the data\n",
    "        np.save(root_dir+'/chan_'+str(ctr)+'_data.npy',\n",
    "                data2D[:,chan])\n",
    "        \n",
    "        # save templates\n",
    "#         for ch in chans_neighbour:\n",
    "#             idx = np.where(max_chans==ch)[0]\n",
    "#             temps_out.extend(temps[idx,:,chan])  #Make sure you save max channel tempalte NOT \n",
    "            \n",
    "        # save template s\n",
    "        temps_out=[]\n",
    "        for id_ in ids_ptp:\n",
    "            temps_out.append(temps[id_,:,chan])\n",
    "    \n",
    "        \n",
    "        temps_out = np.array(temps_out)\n",
    "        print (temps_out.shape)  \n",
    "        \n",
    "        \n",
    "        \n",
    "        \n",
    "        temps_out = temps_out[:,20:95]\n",
    "        print (\" templates saved: \", temps_out.shape)\n",
    "            \n",
    "        np.save(root_dir+'/chan_'+str(ctr)+'_templates.npy',\n",
    "                temps_out)\n",
    "        \n",
    "        # save spiketrains\n",
    "        times_out= []\n",
    "        for id_ in ids_ptp:\n",
    "            idx4 = np.where(spike_train[:,1]==id_)[0]\n",
    "            times = spike_train[idx4,0]\n",
    "            idx5 = np.where(times<(5*60*20000))[0]\n",
    "            times_out.append(times[idx5])\n",
    "        \n",
    "        np.save(root_dir+'/chan_'+str(ctr)+'_times.npy',\n",
    "                times_out)\n",
    "        #break    \n",
    "        ctr+=1"
   ]
  },
  {
   "cell_type": "code",
   "execution_count": null,
   "metadata": {},
   "outputs": [],
   "source": []
  },
  {
   "cell_type": "code",
   "execution_count": null,
   "metadata": {},
   "outputs": [],
   "source": []
  },
  {
   "cell_type": "code",
   "execution_count": 6,
   "metadata": {},
   "outputs": [
    {
     "name": "stdout",
     "output_type": "stream",
     "text": [
      "(3072000000,)\n"
     ]
    }
   ],
   "source": [
    "data = np.fromfile('/media/cat/2TB/liam/512channels/2009-04-13-5_120mins/2009-04-13-5.bin','int16',count=512*20000*5*60)\n",
    "print (data.shape)"
   ]
  },
  {
   "cell_type": "code",
   "execution_count": 7,
   "metadata": {},
   "outputs": [],
   "source": [
    "data.tofile('/media/cat/2TB/liam/512channels/2009-04-13-5_120mins/2009-04-13-5_5min.bin')"
   ]
  },
  {
   "cell_type": "code",
   "execution_count": null,
   "metadata": {},
   "outputs": [],
   "source": []
  },
  {
   "cell_type": "code",
   "execution_count": null,
   "metadata": {},
   "outputs": [],
   "source": []
  },
  {
   "cell_type": "code",
   "execution_count": null,
   "metadata": {},
   "outputs": [],
   "source": []
  },
  {
   "cell_type": "code",
   "execution_count": null,
   "metadata": {},
   "outputs": [],
   "source": []
  },
  {
   "cell_type": "code",
   "execution_count": null,
   "metadata": {},
   "outputs": [],
   "source": []
  },
  {
   "cell_type": "code",
   "execution_count": null,
   "metadata": {},
   "outputs": [],
   "source": []
  },
  {
   "cell_type": "code",
   "execution_count": null,
   "metadata": {},
   "outputs": [],
   "source": []
  },
  {
   "cell_type": "code",
   "execution_count": null,
   "metadata": {},
   "outputs": [],
   "source": []
  },
  {
   "cell_type": "code",
   "execution_count": null,
   "metadata": {},
   "outputs": [],
   "source": []
  },
  {
   "cell_type": "code",
   "execution_count": null,
   "metadata": {},
   "outputs": [],
   "source": []
  },
  {
   "cell_type": "code",
   "execution_count": null,
   "metadata": {},
   "outputs": [],
   "source": []
  },
  {
   "cell_type": "code",
   "execution_count": null,
   "metadata": {},
   "outputs": [],
   "source": []
  }
 ],
 "metadata": {
  "kernelspec": {
   "display_name": "Python 3",
   "language": "python",
   "name": "python3"
  },
  "language_info": {
   "codemirror_mode": {
    "name": "ipython",
    "version": 3
   },
   "file_extension": ".py",
   "mimetype": "text/x-python",
   "name": "python",
   "nbconvert_exporter": "python",
   "pygments_lexer": "ipython3",
   "version": "3.6.7"
  }
 },
 "nbformat": 4,
 "nbformat_minor": 2
}
