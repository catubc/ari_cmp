{
 "cells": [
  {
   "cell_type": "code",
   "execution_count": 2,
   "metadata": {},
   "outputs": [
    {
     "data": {
      "application/javascript": [
       "IPython.notebook.set_autosave_interval(180000)"
      ]
     },
     "metadata": {},
     "output_type": "display_data"
    },
    {
     "name": "stdout",
     "output_type": "stream",
     "text": [
      "Autosaving every 180 seconds\n"
     ]
    },
    {
     "data": {
      "text/html": [
       "<style>.container { width:100% !important; }</style>"
      ],
      "text/plain": [
       "<IPython.core.display.HTML object>"
      ]
     },
     "metadata": {},
     "output_type": "display_data"
    }
   ],
   "source": [
    "import matplotlib\n",
    "#matplotlib.use('Agg')\n",
    "%matplotlib tk\n",
    "%autosave 180\n",
    "import matplotlib.pyplot as plt\n",
    "from IPython.core.display import display, HTML\n",
    "display(HTML(\"<style>.container { width:100% !important; }</style>\"))\n",
    "\n",
    "import matplotlib.cm as cm\n",
    "from matplotlib import gridspec\n",
    "\n",
    "import numpy as np\n",
    "import pandas as pd\n",
    "import os\n",
    "import shutil\n",
    "\n",
    "#import glob2\n",
    "\n",
    "#from numba import jit\n",
    "\n",
    "colors = [\n",
    "'black','blue','red','green',\n",
    "'cyan',  \n",
    "'orange','firebrick','lawngreen','dodgerblue','crimson','orchid','slateblue',\n",
    "'darkgreen','darkorange','indianred','darkviolet','deepskyblue','greenyellow',\n",
    "'peru','cadetblue','forestgreen','slategrey','lightsteelblue','rebeccapurple',\n",
    "'darkmagenta','yellow','hotpink']"
   ]
  },
  {
   "cell_type": "code",
   "execution_count": 13,
   "metadata": {},
   "outputs": [],
   "source": [
    "# function that upsamples stack of waveforms up to some factor\n",
    "def upsample_resample(wf, upsample_factor):\n",
    "    \n",
    "    # grab the max channel template from each of the first tempaltes\n",
    "    wf_local = []\n",
    "    for k in range(wf.shape[0]):\n",
    "        wf_local.append(wf[k,:,max_chans[k]])\n",
    "\n",
    "    wf = np.array(wf_local)\n",
    "\n",
    "    wf = wf.T\n",
    "    waveform_len, n_spikes = wf.shape\n",
    "    traces = np.zeros((n_spikes, (waveform_len-1)*upsample_factor+1),'float32')\n",
    "    for j in range(wf.shape[1]):\n",
    "        traces[j] = signal.resample(wf[:,j],(waveform_len-1)*upsample_factor+1)\n",
    "    return traces, wf.T"
   ]
  },
  {
   "cell_type": "code",
   "execution_count": 14,
   "metadata": {},
   "outputs": [
    {
     "name": "stdout",
     "output_type": "stream",
     "text": [
      "(2413, 101, 512)\n",
      "(10, 101, 512)\n"
     ]
    }
   ],
   "source": [
    "# load template file\n",
    "temps = np.load('/media/cat/4TBSSD/data/retina/2009/templates_0sec.npy')\n",
    "print (temps.shape)\n",
    "\n",
    "# grab the first 10 templates\n",
    "temps1 = temps[:10]\n",
    "print (temps1.shape)\n",
    "\n",
    "# compute max channels for first 10 templates\n",
    "max_chans = temps1.ptp(1).argmax(1)"
   ]
  },
  {
   "cell_type": "code",
   "execution_count": 20,
   "metadata": {},
   "outputs": [
    {
     "name": "stdout",
     "output_type": "stream",
     "text": [
      "(10, 501)\n",
      "(101,)\n",
      "(100,)\n",
      "(100,)\n",
      "(100,)\n",
      "(100,)\n",
      "(5,)\n"
     ]
    }
   ],
   "source": [
    "# upsample shift\n",
    "from scipy import signal\n",
    "\n",
    "# upsample max channel templates for first 10 templates by a factor\n",
    "upsample_factor = 5\n",
    "wf_upsampled, wf_local = upsample_resample(temps1, upsample_factor)\n",
    "print (wf_upsampled.shape)\n",
    "\n",
    "# plot upsampled templates on top of original templates\n",
    "ax = plt.subplot(1,2,1)\n",
    "\n",
    "# original templates\n",
    "t = np.arange(wf_local.shape[1])\n",
    "plt.plot(t, wf_local.T,c='black')\n",
    "\n",
    "# upsampled tempaltes\n",
    "tt = np.arange(wf_upsampled.shape[1])/upsample_factor+0.5\n",
    "plt.plot(tt, wf_upsampled.T)\n",
    "plt.title(\"First 10 templates max channel \\noriginal sample rate (black) vs. upsampled (colors)\")\n",
    "\n",
    "# plot a single example of downsampled shifted templates\n",
    "ax = plt.subplot(1,2,2)\n",
    "shifts = np.arange(0,upsample_factor,1)\n",
    "\n",
    "wf_downsampled = []\n",
    "unit = 0\n",
    "shifts = np.arange(0,5,1)\n",
    "for shift in shifts:\n",
    "    print (wf_upsampled[unit,shift::upsample_factor].shape)\n",
    "    wf_downsampled.append(wf_upsampled[unit,shift::upsample_factor])\n",
    "    \n",
    "wf_downsampled=np.array(wf_downsampled)\n",
    "print (wf_downsampled.shape)\n",
    "    \n",
    "for k in range(shifts.shape[0]):\n",
    "    plt.plot(t[:wf_downsampled[k].shape[0]], wf_downsampled[k])\n",
    "    plt.plot(t, wf_local[unit],linewidth=2, c='black')\n",
    "\n",
    "plt.title(\"First template original sample rate (black) \\nvs. upsampled+shifted+downsampled (colors)\")\n",
    "\n",
    "plt.show()"
   ]
  },
  {
   "cell_type": "code",
   "execution_count": null,
   "metadata": {},
   "outputs": [],
   "source": []
  }
 ],
 "metadata": {
  "kernelspec": {
   "display_name": "Python 3",
   "language": "python",
   "name": "python3"
  },
  "language_info": {
   "codemirror_mode": {
    "name": "ipython",
    "version": 3
   },
   "file_extension": ".py",
   "mimetype": "text/x-python",
   "name": "python",
   "nbconvert_exporter": "python",
   "pygments_lexer": "ipython3",
   "version": "3.7.7"
  }
 },
 "nbformat": 4,
 "nbformat_minor": 4
}
